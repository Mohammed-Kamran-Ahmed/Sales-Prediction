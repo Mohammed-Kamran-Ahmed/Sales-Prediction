{
 "cells": [
  {
   "cell_type": "code",
   "execution_count": 5,
   "id": "91dd7844-eb83-434a-9598-78a7f7d6fcaf",
   "metadata": {},
   "outputs": [
    {
     "name": "stdout",
     "output_type": "stream",
     "text": [
      "[1 2 3]\n",
      "<class 'numpy.ndarray'>\n"
     ]
    }
   ],
   "source": [
    "import numpy as np\n",
    "\n",
    "n = np.array([1,2,3])\n",
    "print(n)\n",
    "\n",
    "print(type(n))"
   ]
  },
  {
   "cell_type": "code",
   "execution_count": 39,
   "id": "6ab33fab-4ebf-49eb-8c97-7c88d29c23dd",
   "metadata": {},
   "outputs": [
    {
     "name": "stdout",
     "output_type": "stream",
     "text": [
      "[[1 2 3]\n",
      " [4 5 6]\n",
      " [7 8 9]]\n"
     ]
    }
   ],
   "source": [
    "a = np.array([[1,2,3], [4,5,6], [7,8,9]], dtype = 'int32')\n",
    "print(a)"
   ]
  },
  {
   "cell_type": "code",
   "execution_count": 25,
   "id": "34f455a8-dd5d-42ba-893f-261ad678d317",
   "metadata": {},
   "outputs": [
    {
     "name": "stdout",
     "output_type": "stream",
     "text": [
      "4\n"
     ]
    }
   ],
   "source": [
    "print(a[1][0])"
   ]
  },
  {
   "cell_type": "code",
   "execution_count": 26,
   "id": "ced819f2-5acb-42fe-8334-519fdb68ca37",
   "metadata": {},
   "outputs": [
    {
     "data": {
      "text/plain": [
       "2"
      ]
     },
     "execution_count": 26,
     "metadata": {},
     "output_type": "execute_result"
    }
   ],
   "source": [
    "a.ndim"
   ]
  },
  {
   "cell_type": "code",
   "execution_count": 27,
   "id": "af60dbc2-0f12-4e33-a6d7-dd2b1c26b3de",
   "metadata": {},
   "outputs": [
    {
     "data": {
      "text/plain": [
       "(3, 3)"
      ]
     },
     "execution_count": 27,
     "metadata": {},
     "output_type": "execute_result"
    }
   ],
   "source": [
    "a.shape"
   ]
  },
  {
   "cell_type": "code",
   "execution_count": 31,
   "id": "d0a19f32-4475-48cc-83c2-d852a22da933",
   "metadata": {},
   "outputs": [
    {
     "data": {
      "text/plain": [
       "(dtype('int32'), 9, 36)"
      ]
     },
     "execution_count": 31,
     "metadata": {},
     "output_type": "execute_result"
    }
   ],
   "source": [
    "a.dtype , a.size, a.nbytes"
   ]
  },
  {
   "cell_type": "code",
   "execution_count": 37,
   "id": "ebfbf617-30e7-4825-bc76-b82976253451",
   "metadata": {},
   "outputs": [
    {
     "name": "stdout",
     "output_type": "stream",
     "text": [
      "[[1 2 1]\n",
      " [4 5 2]\n",
      " [7 8 3]]\n"
     ]
    }
   ],
   "source": [
    "a[:,2] = np.array([1,2,3])# a[r,c]\n",
    "print(a)"
   ]
  },
  {
   "cell_type": "code",
   "execution_count": 40,
   "id": "a25d8811-5431-4f22-8f96-d6da44bc1f05",
   "metadata": {},
   "outputs": [
    {
     "data": {
      "text/plain": [
       "array([1, 2], dtype=int32)"
      ]
     },
     "execution_count": 40,
     "metadata": {},
     "output_type": "execute_result"
    }
   ],
   "source": [
    "a[0,0:2]"
   ]
  },
  {
   "cell_type": "code",
   "execution_count": 45,
   "id": "cde7a06b-c1e7-401c-ad80-2a8530fc5cf5",
   "metadata": {},
   "outputs": [
    {
     "name": "stdout",
     "output_type": "stream",
     "text": [
      "[1, 3]\n"
     ]
    }
   ],
   "source": [
    "l = [1,2,3,4]\n",
    "print(l[0:3:2])"
   ]
  },
  {
   "cell_type": "code",
   "execution_count": 48,
   "id": "31e8d7b2-017b-4222-bdeb-62cb450c8dcd",
   "metadata": {},
   "outputs": [
    {
     "name": "stdout",
     "output_type": "stream",
     "text": [
      "[[[1 2]\n",
      "  [3 4]]\n",
      "\n",
      " [[5 6]\n",
      "  [7 8]]]\n"
     ]
    }
   ],
   "source": [
    "a = np.array([[[1,2],[3,4]], [[5,6], [7,8]]], dtype = 'int16')\n",
    "print(a)"
   ]
  },
  {
   "cell_type": "code",
   "execution_count": 50,
   "id": "9e79194e-073d-4bd0-967a-6ee14c5b3fe5",
   "metadata": {},
   "outputs": [
    {
     "data": {
      "text/plain": [
       "(np.int16(4), 2)"
      ]
     },
     "execution_count": 50,
     "metadata": {},
     "output_type": "execute_result"
    }
   ],
   "source": [
    "a[0,1,1], a.itemsize"
   ]
  },
  {
   "cell_type": "code",
   "execution_count": 52,
   "id": "b2ecb537-34c4-4033-9883-42f170d82197",
   "metadata": {},
   "outputs": [
    {
     "data": {
      "text/plain": [
       "array([[0., 0.]])"
      ]
     },
     "execution_count": 52,
     "metadata": {},
     "output_type": "execute_result"
    }
   ],
   "source": [
    "np.zeros((1,2))\n"
   ]
  },
  {
   "cell_type": "code",
   "execution_count": 53,
   "id": "6a7c8b49-502a-451f-8d09-451b584d3a00",
   "metadata": {},
   "outputs": [
    {
     "data": {
      "text/plain": [
       "array([[1., 1., 1.],\n",
       "       [1., 1., 1.]])"
      ]
     },
     "execution_count": 53,
     "metadata": {},
     "output_type": "execute_result"
    }
   ],
   "source": [
    "np.ones((2,3))"
   ]
  },
  {
   "cell_type": "code",
   "execution_count": 54,
   "id": "0cc43d7b-04ef-4730-a7aa-f12d60b7bd6e",
   "metadata": {},
   "outputs": [
    {
     "data": {
      "text/plain": [
       "array([[99, 99, 99],\n",
       "       [99, 99, 99]])"
      ]
     },
     "execution_count": 54,
     "metadata": {},
     "output_type": "execute_result"
    }
   ],
   "source": [
    "np.full((2,3), 99)"
   ]
  },
  {
   "cell_type": "code",
   "execution_count": 60,
   "id": "cbb6af46-efb5-48d7-a39e-1f2c74cb6fd7",
   "metadata": {},
   "outputs": [
    {
     "data": {
      "text/plain": [
       "array([[0.20132158, 0.70532271, 0.84878338],\n",
       "       [0.64908255, 0.08892555, 0.35114152]])"
      ]
     },
     "execution_count": 60,
     "metadata": {},
     "output_type": "execute_result"
    }
   ],
   "source": [
    "import random\n",
    "\n",
    "np.random.rand(2,3)\n"
   ]
  },
  {
   "cell_type": "code",
   "execution_count": 62,
   "id": "7b6c14c6-3605-4a70-b9c3-7ceabf4f0555",
   "metadata": {},
   "outputs": [
    {
     "data": {
      "text/plain": [
       "array([[5, 2, 0],\n",
       "       [6, 4, 5]], dtype=int16)"
      ]
     },
     "execution_count": 62,
     "metadata": {},
     "output_type": "execute_result"
    }
   ],
   "source": [
    "np.random.randint(7, size=(2,3), dtype = 'int16')"
   ]
  },
  {
   "cell_type": "code",
   "execution_count": 64,
   "id": "5719d61a-650f-4dd8-aa15-673f5e7309c4",
   "metadata": {},
   "outputs": [
    {
     "data": {
      "text/plain": [
       "array([[1., 0., 0.],\n",
       "       [0., 1., 0.],\n",
       "       [0., 0., 1.]])"
      ]
     },
     "execution_count": 64,
     "metadata": {},
     "output_type": "execute_result"
    }
   ],
   "source": [
    "np.identity(3)"
   ]
  },
  {
   "cell_type": "code",
   "execution_count": 72,
   "id": "af48f51b-a2d7-4e31-b120-bc3c02989d14",
   "metadata": {},
   "outputs": [
    {
     "name": "stdout",
     "output_type": "stream",
     "text": [
      "[[1 2 4]]\n",
      "[[1 2 4]\n",
      " [1 2 4]\n",
      " [1 2 4]]\n"
     ]
    }
   ],
   "source": [
    "y = np.array([[1,2,4]])\n",
    "print(y)\n",
    "x = np.repeat(y, 3, axis = 0)\n",
    "print(x)"
   ]
  },
  {
   "cell_type": "markdown",
   "id": "85b3964a-681a-4ecb-a2ae-fa572aabc8ff",
   "metadata": {},
   "source": [
    "### Project Testing "
   ]
  },
  {
   "cell_type": "code",
   "execution_count": 77,
   "id": "c0314be6-e383-4447-9f03-f6ae4bff1671",
   "metadata": {},
   "outputs": [
    {
     "name": "stdout",
     "output_type": "stream",
     "text": [
      "[[1 1 1 1 1]\n",
      " [1 1 1 1 1]\n",
      " [1 1 1 1 1]\n",
      " [1 1 1 1 1]\n",
      " [1 1 1 1 1]]\n"
     ]
    }
   ],
   "source": [
    "z = np.array([[1,1,1,1,1]], dtype = 'int16')\n",
    "new_z = np.repeat(z,5,axis = 0)\n",
    "print(new_z)"
   ]
  },
  {
   "cell_type": "code",
   "execution_count": 79,
   "id": "1c0efe7c-65b0-4577-862a-fbd07bb856bc",
   "metadata": {},
   "outputs": [
    {
     "name": "stdout",
     "output_type": "stream",
     "text": [
      "[[1 1 1 1 1]\n",
      " [1 0 0 0 1]\n",
      " [1 0 0 0 1]\n",
      " [1 0 0 0 1]\n",
      " [1 1 1 1 1]]\n"
     ]
    }
   ],
   "source": [
    "new_z[1:4, 1:4] = 0\n",
    "print(new_z)\n",
    "new_z[2,2] = 9\n"
   ]
  },
  {
   "cell_type": "code",
   "execution_count": 80,
   "id": "028ef2f1-776b-422a-8afa-6fc9597f04f5",
   "metadata": {},
   "outputs": [
    {
     "name": "stdout",
     "output_type": "stream",
     "text": [
      "[[1 1 1 1 1]\n",
      " [1 0 0 0 1]\n",
      " [1 0 9 0 1]\n",
      " [1 0 0 0 1]\n",
      " [1 1 1 1 1]]\n"
     ]
    }
   ],
   "source": [
    "print(new_z)"
   ]
  },
  {
   "cell_type": "code",
   "execution_count": 83,
   "id": "5c42a7c6-f6e5-4b3f-8499-8f926465cae7",
   "metadata": {},
   "outputs": [
    {
     "name": "stdout",
     "output_type": "stream",
     "text": [
      "[2 2 3]\n",
      "[2 2 3]\n"
     ]
    }
   ],
   "source": [
    "a = np.array([1,2,3])\n",
    "b = a\n",
    "b[0] = 2\n",
    "print(a)\n",
    "b = a.copy() # deep copy completely different memory location \n",
    "b[1] = 9\n",
    "print(a)"
   ]
  },
  {
   "cell_type": "code",
   "execution_count": 96,
   "id": "c3bb9afd-2858-4243-92d0-5a4ff9665247",
   "metadata": {},
   "outputs": [
    {
     "name": "stdout",
     "output_type": "stream",
     "text": [
      "[1, 2, 3, 4]\n",
      "[1, 2, 3, 4]\n",
      "2490555284992 2490555882880\n"
     ]
    }
   ],
   "source": [
    "l = list((1,2,3,4))\n",
    "print(l)\n",
    "# l1 = l # deep copy \n",
    "l1 = [1,2,3,4]\n",
    "l1[2] = 5\n",
    "print(l)\n",
    "\n",
    "print(id(l), id(l1))"
   ]
  },
  {
   "cell_type": "code",
   "execution_count": 97,
   "id": "4f45bbd9-f2d2-402f-bb1f-665e97ff4deb",
   "metadata": {},
   "outputs": [
    {
     "name": "stdout",
     "output_type": "stream",
     "text": [
      "2490545737424 2490545737424\n",
      "2490167219504 2490545737424\n"
     ]
    }
   ],
   "source": [
    "s1 = \"Kamran\"\n",
    "s2 =  \"Kamran\"\n",
    "print(id(s1), id(s2))\n",
    "s1 = \"hello\"\n",
    "print(id(s1), id(s2))"
   ]
  },
  {
   "cell_type": "code",
   "execution_count": 99,
   "id": "575d5046-9398-46a1-b834-7bb90ec72a15",
   "metadata": {},
   "outputs": [
    {
     "name": "stdout",
     "output_type": "stream",
     "text": [
      "[5 7 9]\n",
      "[ 4 10 18]\n",
      "[0.25 0.4  0.5 ]\n",
      "[  1  32 729]\n"
     ]
    }
   ],
   "source": [
    "a = np.array([1,2,3])\n",
    "b = np.array([4,5,6])\n",
    "\n",
    "print(a+b)\n",
    "print(a*b)\n",
    "print(a/b)\n",
    "print(a**b)"
   ]
  },
  {
   "cell_type": "code",
   "execution_count": 101,
   "id": "4c49ea5a-03ea-4227-8dc8-b3af96d3405e",
   "metadata": {},
   "outputs": [
    {
     "data": {
      "text/plain": [
       "array([ 0.54030231, -0.41614684, -0.9899925 ])"
      ]
     },
     "execution_count": 101,
     "metadata": {},
     "output_type": "execute_result"
    }
   ],
   "source": [
    "np.cos(a)"
   ]
  },
  {
   "cell_type": "code",
   "execution_count": 110,
   "id": "9abf86e2-b721-4d62-8e17-795c357cf1d6",
   "metadata": {},
   "outputs": [],
   "source": [
    "a = np.array([1,2,3])\n",
    "b = np.full((1,3), 2)\n",
    "\n",
    "# np.matmul(a,b)"
   ]
  },
  {
   "cell_type": "code",
   "execution_count": 111,
   "id": "e963053f-5699-4911-b57c-3cbc1a08daff",
   "metadata": {},
   "outputs": [
    {
     "data": {
      "text/plain": [
       "array([[1, 2, 3],\n",
       "       [2, 2, 2]])"
      ]
     },
     "execution_count": 111,
     "metadata": {},
     "output_type": "execute_result"
    }
   ],
   "source": [
    "np.vstack([a,b])"
   ]
  },
  {
   "cell_type": "code",
   "execution_count": 121,
   "id": "28932cac-040b-4d94-bf5b-0aece247c58d",
   "metadata": {},
   "outputs": [
    {
     "name": "stdout",
     "output_type": "stream",
     "text": [
      "[1 2 3 4 5 6]\n",
      "2\n"
     ]
    }
   ],
   "source": [
    "## Input from the text files \n",
    "\n",
    "filename = np.genfromtxt('data.txt', delimiter = ',')\n",
    "filename = filename.astype('int16')\n",
    "print(filename)\n",
    "\n",
    "print(filename[0].itemsize)"
   ]
  },
  {
   "cell_type": "code",
   "execution_count": null,
   "id": "2ee924ea-a9b8-4190-b079-de231040a3bd",
   "metadata": {},
   "outputs": [],
   "source": []
  }
 ],
 "metadata": {
  "kernelspec": {
   "display_name": "Python 3 (ipykernel)",
   "language": "python",
   "name": "python3"
  },
  "language_info": {
   "codemirror_mode": {
    "name": "ipython",
    "version": 3
   },
   "file_extension": ".py",
   "mimetype": "text/x-python",
   "name": "python",
   "nbconvert_exporter": "python",
   "pygments_lexer": "ipython3",
   "version": "3.13.5"
  }
 },
 "nbformat": 4,
 "nbformat_minor": 5
}
