{
 "cells": [
  {
   "cell_type": "code",
   "execution_count": 6,
   "id": "4c412c10-756a-40f8-bf32-8e73632d371c",
   "metadata": {},
   "outputs": [],
   "source": [
    "import os \n",
    "import pandas as pd\n",
    "from sklearn.neighbors import KNeighborsClassifier"
   ]
  },
  {
   "cell_type": "code",
   "execution_count": 4,
   "id": "fad06dca-0bfd-448e-beda-ec3660bed305",
   "metadata": {},
   "outputs": [
    {
     "name": "stdout",
     "output_type": "stream",
     "text": [
      "D:\\Naviotech-Internship\n",
      "D:\\Naviotech-Internship\\knn_data.xlsx\n"
     ]
    }
   ],
   "source": [
    "project_path = os.getcwd();\n",
    "print(project_path)\n",
    "file_name = r\"\\knn_data.xlsx\"\n",
    "file_path = project_path + file_name\n",
    "print(file_path)"
   ]
  },
  {
   "cell_type": "code",
   "execution_count": 14,
   "id": "1fc055b8-84f5-4886-b240-dc3ea7261c85",
   "metadata": {},
   "outputs": [],
   "source": [
    "df = pd.read_excel(file_path)\n",
    "df\n",
    "inp = df.drop(\"result\", axis = 1)\n",
    "target = df[\"result\"]\n"
   ]
  },
  {
   "cell_type": "code",
   "execution_count": 12,
   "id": "d3ef6186-55cf-4806-badc-97b1bd79e8f5",
   "metadata": {},
   "outputs": [
    {
     "name": "stdout",
     "output_type": "stream",
     "text": [
      "   sub-1  sub-2\n",
      "0      7      7\n",
      "1      7      4\n",
      "2      3      4\n",
      "3      1      4\n",
      "4      2      2\n",
      "5      5      8\n",
      "6      8      8\n",
      "7      1      3\n",
      "8      8      1\n",
      "9      1      8 0    Good\n",
      "1    Good\n",
      "2     Bad\n",
      "3     Bad\n",
      "4     Bad\n",
      "5    Good\n",
      "6    Good\n",
      "7     Bad\n",
      "8     Bad\n",
      "9     Bad\n",
      "Name: result, dtype: object\n"
     ]
    }
   ],
   "source": [
    "knn = KNeighborsClassifier(n_neighbors = 3)\n",
    "knn.fit(inp, target)\n",
    "print(inp, target)"
   ]
  },
  {
   "cell_type": "code",
   "execution_count": 17,
   "id": "c3ba6956-3d5b-4160-bd5e-5a758d9655ef",
   "metadata": {},
   "outputs": [
    {
     "name": "stdout",
     "output_type": "stream",
     "text": [
      "   sub-1  sub-2\n",
      "0      6      3\n",
      "['Bad']\n"
     ]
    }
   ],
   "source": [
    "d = {\n",
    "        'sub-1': 6,\n",
    "        'sub-2': 3\n",
    "    }\n",
    "\n",
    "test_inp = pd.DataFrame([d])\n",
    "\n",
    "print(test_inp)\n",
    "\n",
    "print(knn.predict(test_inp))"
   ]
  },
  {
   "cell_type": "code",
   "execution_count": null,
   "id": "87861cdb-e961-4930-876d-e7f6f05bb996",
   "metadata": {},
   "outputs": [],
   "source": []
  }
 ],
 "metadata": {
  "kernelspec": {
   "display_name": "Python 3 (ipykernel)",
   "language": "python",
   "name": "python3"
  },
  "language_info": {
   "codemirror_mode": {
    "name": "ipython",
    "version": 3
   },
   "file_extension": ".py",
   "mimetype": "text/x-python",
   "name": "python",
   "nbconvert_exporter": "python",
   "pygments_lexer": "ipython3",
   "version": "3.13.5"
  }
 },
 "nbformat": 4,
 "nbformat_minor": 5
}
