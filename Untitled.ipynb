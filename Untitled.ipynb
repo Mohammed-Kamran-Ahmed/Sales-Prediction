{
 "cells": [
  {
   "cell_type": "code",
   "execution_count": 24,
   "id": "30bef4f4-fdd2-403a-8787-f9600942bad4",
   "metadata": {},
   "outputs": [
    {
     "name": "stdout",
     "output_type": "stream",
     "text": [
      "D:\\Naviotech-Internship\\pda.xlsx\n",
      "Mean of x is 3.4 and Mean of y is 19.5\n"
     ]
    }
   ],
   "source": [
    "import os\n",
    "import pandas as pd\n",
    "import numpy as np\n",
    "from numpy.linalg import eig\n",
    "\n",
    "path = os.getcwd()\n",
    "file_path = path + \"\\\\pda.xlsx\"\n",
    "print(file_path)\n",
    "df = pd.read_excel(file_path)\n",
    "\n",
    "x = list(df[\"x\"])\n",
    "y = list(df[\"y\"])\n",
    "\n",
    "mx = sum(x)/len(x)\n",
    "my = sum(y)/len(y)\n",
    "\n",
    "print(f\"Mean of x is {mx} and Mean of y is {my}\")"
   ]
  },
  {
   "cell_type": "code",
   "execution_count": 6,
   "id": "e438d9e3-a3e9-4987-a809-52f22667a56b",
   "metadata": {},
   "outputs": [
    {
     "name": "stdout",
     "output_type": "stream",
     "text": [
      "[-2.5, -1.5, -0.5, 0.5, 1.5, 2.5] \n",
      " [-4.0, 0.0, -2.0, 1.0, 2.0, 3.0]\n"
     ]
    }
   ],
   "source": [
    "cx = []\n",
    "cy = []\n",
    "\n",
    "for i in x:\n",
    "     cx.append(i - mx)\n",
    "\n",
    "for i in y:\n",
    "    cy.append(i-my)\n",
    "\n",
    "print(cx, \"\\n\", cy)    \n"
   ]
  },
  {
   "cell_type": "code",
   "execution_count": 11,
   "id": "5122aeb7-7a24-40da-98b4-f02827e16bbd",
   "metadata": {},
   "outputs": [
    {
     "name": "stdout",
     "output_type": "stream",
     "text": [
      "[[-2.5, -4.0], [-1.5, 0.0], [-0.5, -2.0], [0.5, 1.0], [1.5, 2.0], [2.5, 3.0]]\n"
     ]
    }
   ],
   "source": [
    "d = []\n",
    "for i in range(0,len(x)):\n",
    "    \n",
    "     d.append([cx[i], cy[i]])   \n",
    "    \n",
    "print(d)    "
   ]
  },
  {
   "cell_type": "code",
   "execution_count": 12,
   "id": "e9e37ea5-1f34-49c4-9ae2-feb1f90baef4",
   "metadata": {},
   "outputs": [
    {
     "data": {
      "text/plain": [
       "array([[-2.5, -4. ],\n",
       "       [-1.5,  0. ],\n",
       "       [-0.5, -2. ],\n",
       "       [ 0.5,  1. ],\n",
       "       [ 1.5,  2. ],\n",
       "       [ 2.5,  3. ]])"
      ]
     },
     "execution_count": 12,
     "metadata": {},
     "output_type": "execute_result"
    }
   ],
   "source": [
    "d = np.array(d)\n",
    "dt = d.transpose()\n",
    "d"
   ]
  },
  {
   "cell_type": "code",
   "execution_count": 13,
   "id": "8ceac7ac-0fec-482f-affb-7d5448e8f792",
   "metadata": {},
   "outputs": [
    {
     "name": "stdout",
     "output_type": "stream",
     "text": [
      "The covarice is [[3.5 4.4]\n",
      " [4.4 6.8]]\n"
     ]
    }
   ],
   "source": [
    "c = np.cov(dt)\n",
    "print(f\"The covarice is {c}\")"
   ]
  },
  {
   "cell_type": "code",
   "execution_count": 15,
   "id": "b47b97b6-f0a5-418a-82cf-99475c5fc001",
   "metadata": {},
   "outputs": [
    {
     "name": "stdout",
     "output_type": "stream",
     "text": [
      "The eigenvalues are :- [0.45079794 9.84920206]\n",
      "The eigenvectors are :- [[-0.82192562 -0.56959484]\n",
      " [ 0.56959484 -0.82192562]]\n"
     ]
    }
   ],
   "source": [
    "eignevalues, eigenvectors = eig(c)\n",
    "print(f'The eigenvalues are :- {eignevalues}')\n",
    "print(f\"The eigenvectors are :- {eigenvectors}\")"
   ]
  },
  {
   "cell_type": "code",
   "execution_count": 18,
   "id": "21758ce5-9a73-4079-bb1f-c412bfd847a9",
   "metadata": {},
   "outputs": [
    {
     "name": "stdout",
     "output_type": "stream",
     "text": [
      "The explained_variance_ratio :- [-0.27423281 -5.99154099]\n"
     ]
    }
   ],
   "source": [
    "explained_variace_ratio = ( eignevalues/ np.sum(eigenvectors))\n",
    "print(f\"The explained_variance_ratio :- {explained_variace_ratio}\")\n",
    "\n"
   ]
  },
  {
   "cell_type": "code",
   "execution_count": 19,
   "id": "abf8b11a-2da1-44e4-a9b3-613da3d3ca4d",
   "metadata": {},
   "outputs": [
    {
     "name": "stdout",
     "output_type": "stream",
     "text": [
      "data :-  [[-2.5 -4. ]\n",
      " [-1.5  0. ]\n",
      " [-0.5 -2. ]\n",
      " [ 0.5  1. ]\n",
      " [ 1.5  2. ]\n",
      " [ 2.5  3. ]] (6, 2)\n",
      "eigen vector :-  [[-0.82192562 -0.56959484]\n",
      " [ 0.56959484 -0.82192562]] (2, 2)\n"
     ]
    }
   ],
   "source": [
    "df = pd.DataFrame(d)\n",
    "data = np.array(df)\n",
    "print(\"data :- \", data , data.shape)\n",
    "print(\"eigen vector :- \", eigenvectors, eigenvectors.shape)\n"
   ]
  },
  {
   "cell_type": "code",
   "execution_count": 20,
   "id": "50a1c968-f034-46a6-865c-0c1b12f97759",
   "metadata": {},
   "outputs": [
    {
     "name": "stdout",
     "output_type": "stream",
     "text": [
      "[[ 4.33319339  1.86371538]\n",
      " [ 1.23288843 -0.85439226]\n",
      " [ 1.55015248  1.35905382]\n",
      " [-0.98055765 -0.5371282 ]\n",
      " [-2.3720781  -0.78945898]\n",
      " [-3.76359856 -1.04178976]]\n"
     ]
    }
   ],
   "source": [
    "projected_data = np.dot(data, eigenvectors[:3].T)\n",
    "print(projected_data)"
   ]
  },
  {
   "cell_type": "code",
   "execution_count": 22,
   "id": "4289d030-7b92-42a7-91bb-40d344578d7b",
   "metadata": {},
   "outputs": [
    {
     "name": "stdout",
     "output_type": "stream",
     "text": [
      "The explained_variance_ratio is :-  [ 4.37667903 95.62332097]\n"
     ]
    }
   ],
   "source": [
    "explained_variance_ratio = ( eignevalues/ np.sum(eignevalues))*100\n",
    "print(\"The explained_variance_ratio is :- \", explained_variance_ratio)"
   ]
  },
  {
   "cell_type": "code",
   "execution_count": null,
   "id": "d481d697-34c6-4e82-8fde-bd1c6c7d551d",
   "metadata": {},
   "outputs": [],
   "source": []
  }
 ],
 "metadata": {
  "kernelspec": {
   "display_name": "Python 3 (ipykernel)",
   "language": "python",
   "name": "python3"
  },
  "language_info": {
   "codemirror_mode": {
    "name": "ipython",
    "version": 3
   },
   "file_extension": ".py",
   "mimetype": "text/x-python",
   "name": "python",
   "nbconvert_exporter": "python",
   "pygments_lexer": "ipython3",
   "version": "3.13.5"
  }
 },
 "nbformat": 4,
 "nbformat_minor": 5
}
